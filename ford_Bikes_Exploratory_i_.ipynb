{
  "nbformat": 4,
  "nbformat_minor": 0,
  "metadata": {
    "colab": {
      "name": "ford Bikes Exploratory i .ipynb",
      "provenance": []
    },
    "kernelspec": {
      "name": "python3",
      "display_name": "Python 3"
    },
    "language_info": {
      "name": "python"
    }
  },
  "cells": [
    {
      "cell_type": "markdown",
      "source": [
        "#Importing libraries"
      ],
      "metadata": {
        "id": "yBNbqanW4jQy"
      }
    },
    {
      "cell_type": "markdown",
      "source": [
        "**Definition** - Imorting Pandas, Numpy, Matplotlib, Seaborn, Glob and OS, for accessing, assesing, cleaning, Engineering, Analysing and Visualising Given Data."
      ],
      "metadata": {
        "id": "SBM9O2LSRrmF"
      }
    },
    {
      "cell_type": "code",
      "execution_count": null,
      "metadata": {
        "id": "M3ZLR0znerQI"
      },
      "outputs": [],
      "source": [
        "import numpy as np\n",
        "import pandas as pd\n",
        "import matplotlib.pyplot as plt\n",
        "import seaborn as sb\n",
        "import glob\n",
        "import os\n",
        "from datetime import datetime, date\n",
        "%matplotlib inline"
      ]
    },
    {
      "cell_type": "markdown",
      "source": [
        "# Gathering Data"
      ],
      "metadata": {
        "id": "n0C801QY3jZl"
      }
    },
    {
      "cell_type": "markdown",
      "source": [
        "**Definition** - Reading file from cloud stored csv file using file drive path . \n",
        "**Function Used** : pandas.read_csv()"
      ],
      "metadata": {
        "id": "W1AldLm2SJYx"
      }
    },
    {
      "cell_type": "code",
      "source": [
        "df = pd.read_csv('/content/drive/MyDrive/Utkarsh doc/201902-fordgobike-tripdata.csv')"
      ],
      "metadata": {
        "id": "TvQltDVEe_ma"
      },
      "execution_count": null,
      "outputs": []
    },
    {
      "cell_type": "markdown",
      "source": [
        "#Assessing Data"
      ],
      "metadata": {
        "id": "uctQkz9E3m6D"
      }
    },
    {
      "cell_type": "markdown",
      "source": [
        "**Definition** - Assessing given Raw database using functions such as: \n",
        "  * dataframe.head()\n",
        "  * dataframe.tail()\n",
        "  * dataframe.shape - It is an attribute not a function.\n",
        "  * dataframe.info()\n",
        "  * dataframe.dtypes - It is an attribute not a function.\n",
        "  * dataframe.describe() - It is an attribute not a function."
      ],
      "metadata": {
        "id": "7c4nzJdmShcV"
      }
    },
    {
      "cell_type": "code",
      "source": [
        "df.head()"
      ],
      "metadata": {
        "colab": {
          "base_uri": "https://localhost:8080/",
          "height": 392
        },
        "id": "Enz1CEVGfDPt",
        "outputId": "af4fc87e-1a07-44af-f472-aa7b8d31bcd7"
      },
      "execution_count": null,
      "outputs": [
        {
          "output_type": "execute_result",
          "data": {
            "text/html": [
              "\n",
              "  <div id=\"df-2f7de635-e2d0-4186-a701-046738556e8b\">\n",
              "    <div class=\"colab-df-container\">\n",
              "      <div>\n",
              "<style scoped>\n",
              "    .dataframe tbody tr th:only-of-type {\n",
              "        vertical-align: middle;\n",
              "    }\n",
              "\n",
              "    .dataframe tbody tr th {\n",
              "        vertical-align: top;\n",
              "    }\n",
              "\n",
              "    .dataframe thead th {\n",
              "        text-align: right;\n",
              "    }\n",
              "</style>\n",
              "<table border=\"1\" class=\"dataframe\">\n",
              "  <thead>\n",
              "    <tr style=\"text-align: right;\">\n",
              "      <th></th>\n",
              "      <th>duration_sec</th>\n",
              "      <th>start_time</th>\n",
              "      <th>end_time</th>\n",
              "      <th>start_station_id</th>\n",
              "      <th>start_station_name</th>\n",
              "      <th>start_station_latitude</th>\n",
              "      <th>start_station_longitude</th>\n",
              "      <th>end_station_id</th>\n",
              "      <th>end_station_name</th>\n",
              "      <th>end_station_latitude</th>\n",
              "      <th>end_station_longitude</th>\n",
              "      <th>bike_id</th>\n",
              "      <th>user_type</th>\n",
              "      <th>member_birth_year</th>\n",
              "      <th>member_gender</th>\n",
              "      <th>bike_share_for_all_trip</th>\n",
              "    </tr>\n",
              "  </thead>\n",
              "  <tbody>\n",
              "    <tr>\n",
              "      <th>0</th>\n",
              "      <td>52185</td>\n",
              "      <td>2019-02-28 17:32:10.1450</td>\n",
              "      <td>2019-03-01 08:01:55.9750</td>\n",
              "      <td>21.0</td>\n",
              "      <td>Montgomery St BART Station (Market St at 2nd St)</td>\n",
              "      <td>37.789625</td>\n",
              "      <td>-122.400811</td>\n",
              "      <td>13.0</td>\n",
              "      <td>Commercial St at Montgomery St</td>\n",
              "      <td>37.794231</td>\n",
              "      <td>-122.402923</td>\n",
              "      <td>4902</td>\n",
              "      <td>Customer</td>\n",
              "      <td>1984.0</td>\n",
              "      <td>Male</td>\n",
              "      <td>No</td>\n",
              "    </tr>\n",
              "    <tr>\n",
              "      <th>1</th>\n",
              "      <td>42521</td>\n",
              "      <td>2019-02-28 18:53:21.7890</td>\n",
              "      <td>2019-03-01 06:42:03.0560</td>\n",
              "      <td>23.0</td>\n",
              "      <td>The Embarcadero at Steuart St</td>\n",
              "      <td>37.791464</td>\n",
              "      <td>-122.391034</td>\n",
              "      <td>81.0</td>\n",
              "      <td>Berry St at 4th St</td>\n",
              "      <td>37.775880</td>\n",
              "      <td>-122.393170</td>\n",
              "      <td>2535</td>\n",
              "      <td>Customer</td>\n",
              "      <td>NaN</td>\n",
              "      <td>NaN</td>\n",
              "      <td>No</td>\n",
              "    </tr>\n",
              "    <tr>\n",
              "      <th>2</th>\n",
              "      <td>61854</td>\n",
              "      <td>2019-02-28 12:13:13.2180</td>\n",
              "      <td>2019-03-01 05:24:08.1460</td>\n",
              "      <td>86.0</td>\n",
              "      <td>Market St at Dolores St</td>\n",
              "      <td>37.769305</td>\n",
              "      <td>-122.426826</td>\n",
              "      <td>3.0</td>\n",
              "      <td>Powell St BART Station (Market St at 4th St)</td>\n",
              "      <td>37.786375</td>\n",
              "      <td>-122.404904</td>\n",
              "      <td>5905</td>\n",
              "      <td>Customer</td>\n",
              "      <td>1972.0</td>\n",
              "      <td>Male</td>\n",
              "      <td>No</td>\n",
              "    </tr>\n",
              "    <tr>\n",
              "      <th>3</th>\n",
              "      <td>36490</td>\n",
              "      <td>2019-02-28 17:54:26.0100</td>\n",
              "      <td>2019-03-01 04:02:36.8420</td>\n",
              "      <td>375.0</td>\n",
              "      <td>Grove St at Masonic Ave</td>\n",
              "      <td>37.774836</td>\n",
              "      <td>-122.446546</td>\n",
              "      <td>70.0</td>\n",
              "      <td>Central Ave at Fell St</td>\n",
              "      <td>37.773311</td>\n",
              "      <td>-122.444293</td>\n",
              "      <td>6638</td>\n",
              "      <td>Subscriber</td>\n",
              "      <td>1989.0</td>\n",
              "      <td>Other</td>\n",
              "      <td>No</td>\n",
              "    </tr>\n",
              "    <tr>\n",
              "      <th>4</th>\n",
              "      <td>1585</td>\n",
              "      <td>2019-02-28 23:54:18.5490</td>\n",
              "      <td>2019-03-01 00:20:44.0740</td>\n",
              "      <td>7.0</td>\n",
              "      <td>Frank H Ogawa Plaza</td>\n",
              "      <td>37.804562</td>\n",
              "      <td>-122.271738</td>\n",
              "      <td>222.0</td>\n",
              "      <td>10th Ave at E 15th St</td>\n",
              "      <td>37.792714</td>\n",
              "      <td>-122.248780</td>\n",
              "      <td>4898</td>\n",
              "      <td>Subscriber</td>\n",
              "      <td>1974.0</td>\n",
              "      <td>Male</td>\n",
              "      <td>Yes</td>\n",
              "    </tr>\n",
              "  </tbody>\n",
              "</table>\n",
              "</div>\n",
              "      <button class=\"colab-df-convert\" onclick=\"convertToInteractive('df-2f7de635-e2d0-4186-a701-046738556e8b')\"\n",
              "              title=\"Convert this dataframe to an interactive table.\"\n",
              "              style=\"display:none;\">\n",
              "        \n",
              "  <svg xmlns=\"http://www.w3.org/2000/svg\" height=\"24px\"viewBox=\"0 0 24 24\"\n",
              "       width=\"24px\">\n",
              "    <path d=\"M0 0h24v24H0V0z\" fill=\"none\"/>\n",
              "    <path d=\"M18.56 5.44l.94 2.06.94-2.06 2.06-.94-2.06-.94-.94-2.06-.94 2.06-2.06.94zm-11 1L8.5 8.5l.94-2.06 2.06-.94-2.06-.94L8.5 2.5l-.94 2.06-2.06.94zm10 10l.94 2.06.94-2.06 2.06-.94-2.06-.94-.94-2.06-.94 2.06-2.06.94z\"/><path d=\"M17.41 7.96l-1.37-1.37c-.4-.4-.92-.59-1.43-.59-.52 0-1.04.2-1.43.59L10.3 9.45l-7.72 7.72c-.78.78-.78 2.05 0 2.83L4 21.41c.39.39.9.59 1.41.59.51 0 1.02-.2 1.41-.59l7.78-7.78 2.81-2.81c.8-.78.8-2.07 0-2.86zM5.41 20L4 18.59l7.72-7.72 1.47 1.35L5.41 20z\"/>\n",
              "  </svg>\n",
              "      </button>\n",
              "      \n",
              "  <style>\n",
              "    .colab-df-container {\n",
              "      display:flex;\n",
              "      flex-wrap:wrap;\n",
              "      gap: 12px;\n",
              "    }\n",
              "\n",
              "    .colab-df-convert {\n",
              "      background-color: #E8F0FE;\n",
              "      border: none;\n",
              "      border-radius: 50%;\n",
              "      cursor: pointer;\n",
              "      display: none;\n",
              "      fill: #1967D2;\n",
              "      height: 32px;\n",
              "      padding: 0 0 0 0;\n",
              "      width: 32px;\n",
              "    }\n",
              "\n",
              "    .colab-df-convert:hover {\n",
              "      background-color: #E2EBFA;\n",
              "      box-shadow: 0px 1px 2px rgba(60, 64, 67, 0.3), 0px 1px 3px 1px rgba(60, 64, 67, 0.15);\n",
              "      fill: #174EA6;\n",
              "    }\n",
              "\n",
              "    [theme=dark] .colab-df-convert {\n",
              "      background-color: #3B4455;\n",
              "      fill: #D2E3FC;\n",
              "    }\n",
              "\n",
              "    [theme=dark] .colab-df-convert:hover {\n",
              "      background-color: #434B5C;\n",
              "      box-shadow: 0px 1px 3px 1px rgba(0, 0, 0, 0.15);\n",
              "      filter: drop-shadow(0px 1px 2px rgba(0, 0, 0, 0.3));\n",
              "      fill: #FFFFFF;\n",
              "    }\n",
              "  </style>\n",
              "\n",
              "      <script>\n",
              "        const buttonEl =\n",
              "          document.querySelector('#df-2f7de635-e2d0-4186-a701-046738556e8b button.colab-df-convert');\n",
              "        buttonEl.style.display =\n",
              "          google.colab.kernel.accessAllowed ? 'block' : 'none';\n",
              "\n",
              "        async function convertToInteractive(key) {\n",
              "          const element = document.querySelector('#df-2f7de635-e2d0-4186-a701-046738556e8b');\n",
              "          const dataTable =\n",
              "            await google.colab.kernel.invokeFunction('convertToInteractive',\n",
              "                                                     [key], {});\n",
              "          if (!dataTable) return;\n",
              "\n",
              "          const docLinkHtml = 'Like what you see? Visit the ' +\n",
              "            '<a target=\"_blank\" href=https://colab.research.google.com/notebooks/data_table.ipynb>data table notebook</a>'\n",
              "            + ' to learn more about interactive tables.';\n",
              "          element.innerHTML = '';\n",
              "          dataTable['output_type'] = 'display_data';\n",
              "          await google.colab.output.renderOutput(dataTable, element);\n",
              "          const docLink = document.createElement('div');\n",
              "          docLink.innerHTML = docLinkHtml;\n",
              "          element.appendChild(docLink);\n",
              "        }\n",
              "      </script>\n",
              "    </div>\n",
              "  </div>\n",
              "  "
            ],
            "text/plain": [
              "   duration_sec                start_time  ... member_gender  bike_share_for_all_trip\n",
              "0         52185  2019-02-28 17:32:10.1450  ...          Male                       No\n",
              "1         42521  2019-02-28 18:53:21.7890  ...           NaN                       No\n",
              "2         61854  2019-02-28 12:13:13.2180  ...          Male                       No\n",
              "3         36490  2019-02-28 17:54:26.0100  ...         Other                       No\n",
              "4          1585  2019-02-28 23:54:18.5490  ...          Male                      Yes\n",
              "\n",
              "[5 rows x 16 columns]"
            ]
          },
          "metadata": {},
          "execution_count": 3
        }
      ]
    },
    {
      "cell_type": "code",
      "source": [
        "df.tail()"
      ],
      "metadata": {
        "colab": {
          "base_uri": "https://localhost:8080/",
          "height": 374
        },
        "id": "XBZHfbLVik0E",
        "outputId": "0c568dfc-31e0-4ab5-f228-d7886afc58c2"
      },
      "execution_count": null,
      "outputs": [
        {
          "output_type": "execute_result",
          "data": {
            "text/html": [
              "\n",
              "  <div id=\"df-4c675d05-670b-4e22-a284-fdac433f6073\">\n",
              "    <div class=\"colab-df-container\">\n",
              "      <div>\n",
              "<style scoped>\n",
              "    .dataframe tbody tr th:only-of-type {\n",
              "        vertical-align: middle;\n",
              "    }\n",
              "\n",
              "    .dataframe tbody tr th {\n",
              "        vertical-align: top;\n",
              "    }\n",
              "\n",
              "    .dataframe thead th {\n",
              "        text-align: right;\n",
              "    }\n",
              "</style>\n",
              "<table border=\"1\" class=\"dataframe\">\n",
              "  <thead>\n",
              "    <tr style=\"text-align: right;\">\n",
              "      <th></th>\n",
              "      <th>duration_sec</th>\n",
              "      <th>start_time</th>\n",
              "      <th>end_time</th>\n",
              "      <th>start_station_id</th>\n",
              "      <th>start_station_name</th>\n",
              "      <th>start_station_latitude</th>\n",
              "      <th>start_station_longitude</th>\n",
              "      <th>end_station_id</th>\n",
              "      <th>end_station_name</th>\n",
              "      <th>end_station_latitude</th>\n",
              "      <th>end_station_longitude</th>\n",
              "      <th>bike_id</th>\n",
              "      <th>user_type</th>\n",
              "      <th>member_birth_year</th>\n",
              "      <th>member_gender</th>\n",
              "      <th>bike_share_for_all_trip</th>\n",
              "    </tr>\n",
              "  </thead>\n",
              "  <tbody>\n",
              "    <tr>\n",
              "      <th>183407</th>\n",
              "      <td>480</td>\n",
              "      <td>2019-02-01 00:04:49.7240</td>\n",
              "      <td>2019-02-01 00:12:50.0340</td>\n",
              "      <td>27.0</td>\n",
              "      <td>Beale St at Harrison St</td>\n",
              "      <td>37.788059</td>\n",
              "      <td>-122.391865</td>\n",
              "      <td>324.0</td>\n",
              "      <td>Union Square (Powell St at Post St)</td>\n",
              "      <td>37.788300</td>\n",
              "      <td>-122.408531</td>\n",
              "      <td>4832</td>\n",
              "      <td>Subscriber</td>\n",
              "      <td>1996.0</td>\n",
              "      <td>Male</td>\n",
              "      <td>No</td>\n",
              "    </tr>\n",
              "    <tr>\n",
              "      <th>183408</th>\n",
              "      <td>313</td>\n",
              "      <td>2019-02-01 00:05:34.7440</td>\n",
              "      <td>2019-02-01 00:10:48.5020</td>\n",
              "      <td>21.0</td>\n",
              "      <td>Montgomery St BART Station (Market St at 2nd St)</td>\n",
              "      <td>37.789625</td>\n",
              "      <td>-122.400811</td>\n",
              "      <td>66.0</td>\n",
              "      <td>3rd St at Townsend St</td>\n",
              "      <td>37.778742</td>\n",
              "      <td>-122.392741</td>\n",
              "      <td>4960</td>\n",
              "      <td>Subscriber</td>\n",
              "      <td>1984.0</td>\n",
              "      <td>Male</td>\n",
              "      <td>No</td>\n",
              "    </tr>\n",
              "    <tr>\n",
              "      <th>183409</th>\n",
              "      <td>141</td>\n",
              "      <td>2019-02-01 00:06:05.5490</td>\n",
              "      <td>2019-02-01 00:08:27.2200</td>\n",
              "      <td>278.0</td>\n",
              "      <td>The Alameda at Bush St</td>\n",
              "      <td>37.331932</td>\n",
              "      <td>-121.904888</td>\n",
              "      <td>277.0</td>\n",
              "      <td>Morrison Ave at Julian St</td>\n",
              "      <td>37.333658</td>\n",
              "      <td>-121.908586</td>\n",
              "      <td>3824</td>\n",
              "      <td>Subscriber</td>\n",
              "      <td>1990.0</td>\n",
              "      <td>Male</td>\n",
              "      <td>Yes</td>\n",
              "    </tr>\n",
              "    <tr>\n",
              "      <th>183410</th>\n",
              "      <td>139</td>\n",
              "      <td>2019-02-01 00:05:34.3600</td>\n",
              "      <td>2019-02-01 00:07:54.2870</td>\n",
              "      <td>220.0</td>\n",
              "      <td>San Pablo Ave at MLK Jr Way</td>\n",
              "      <td>37.811351</td>\n",
              "      <td>-122.273422</td>\n",
              "      <td>216.0</td>\n",
              "      <td>San Pablo Ave at 27th St</td>\n",
              "      <td>37.817827</td>\n",
              "      <td>-122.275698</td>\n",
              "      <td>5095</td>\n",
              "      <td>Subscriber</td>\n",
              "      <td>1988.0</td>\n",
              "      <td>Male</td>\n",
              "      <td>No</td>\n",
              "    </tr>\n",
              "    <tr>\n",
              "      <th>183411</th>\n",
              "      <td>271</td>\n",
              "      <td>2019-02-01 00:00:20.6360</td>\n",
              "      <td>2019-02-01 00:04:52.0580</td>\n",
              "      <td>24.0</td>\n",
              "      <td>Spear St at Folsom St</td>\n",
              "      <td>37.789677</td>\n",
              "      <td>-122.390428</td>\n",
              "      <td>37.0</td>\n",
              "      <td>2nd St at Folsom St</td>\n",
              "      <td>37.785000</td>\n",
              "      <td>-122.395936</td>\n",
              "      <td>1057</td>\n",
              "      <td>Subscriber</td>\n",
              "      <td>1989.0</td>\n",
              "      <td>Male</td>\n",
              "      <td>No</td>\n",
              "    </tr>\n",
              "  </tbody>\n",
              "</table>\n",
              "</div>\n",
              "      <button class=\"colab-df-convert\" onclick=\"convertToInteractive('df-4c675d05-670b-4e22-a284-fdac433f6073')\"\n",
              "              title=\"Convert this dataframe to an interactive table.\"\n",
              "              style=\"display:none;\">\n",
              "        \n",
              "  <svg xmlns=\"http://www.w3.org/2000/svg\" height=\"24px\"viewBox=\"0 0 24 24\"\n",
              "       width=\"24px\">\n",
              "    <path d=\"M0 0h24v24H0V0z\" fill=\"none\"/>\n",
              "    <path d=\"M18.56 5.44l.94 2.06.94-2.06 2.06-.94-2.06-.94-.94-2.06-.94 2.06-2.06.94zm-11 1L8.5 8.5l.94-2.06 2.06-.94-2.06-.94L8.5 2.5l-.94 2.06-2.06.94zm10 10l.94 2.06.94-2.06 2.06-.94-2.06-.94-.94-2.06-.94 2.06-2.06.94z\"/><path d=\"M17.41 7.96l-1.37-1.37c-.4-.4-.92-.59-1.43-.59-.52 0-1.04.2-1.43.59L10.3 9.45l-7.72 7.72c-.78.78-.78 2.05 0 2.83L4 21.41c.39.39.9.59 1.41.59.51 0 1.02-.2 1.41-.59l7.78-7.78 2.81-2.81c.8-.78.8-2.07 0-2.86zM5.41 20L4 18.59l7.72-7.72 1.47 1.35L5.41 20z\"/>\n",
              "  </svg>\n",
              "      </button>\n",
              "      \n",
              "  <style>\n",
              "    .colab-df-container {\n",
              "      display:flex;\n",
              "      flex-wrap:wrap;\n",
              "      gap: 12px;\n",
              "    }\n",
              "\n",
              "    .colab-df-convert {\n",
              "      background-color: #E8F0FE;\n",
              "      border: none;\n",
              "      border-radius: 50%;\n",
              "      cursor: pointer;\n",
              "      display: none;\n",
              "      fill: #1967D2;\n",
              "      height: 32px;\n",
              "      padding: 0 0 0 0;\n",
              "      width: 32px;\n",
              "    }\n",
              "\n",
              "    .colab-df-convert:hover {\n",
              "      background-color: #E2EBFA;\n",
              "      box-shadow: 0px 1px 2px rgba(60, 64, 67, 0.3), 0px 1px 3px 1px rgba(60, 64, 67, 0.15);\n",
              "      fill: #174EA6;\n",
              "    }\n",
              "\n",
              "    [theme=dark] .colab-df-convert {\n",
              "      background-color: #3B4455;\n",
              "      fill: #D2E3FC;\n",
              "    }\n",
              "\n",
              "    [theme=dark] .colab-df-convert:hover {\n",
              "      background-color: #434B5C;\n",
              "      box-shadow: 0px 1px 3px 1px rgba(0, 0, 0, 0.15);\n",
              "      filter: drop-shadow(0px 1px 2px rgba(0, 0, 0, 0.3));\n",
              "      fill: #FFFFFF;\n",
              "    }\n",
              "  </style>\n",
              "\n",
              "      <script>\n",
              "        const buttonEl =\n",
              "          document.querySelector('#df-4c675d05-670b-4e22-a284-fdac433f6073 button.colab-df-convert');\n",
              "        buttonEl.style.display =\n",
              "          google.colab.kernel.accessAllowed ? 'block' : 'none';\n",
              "\n",
              "        async function convertToInteractive(key) {\n",
              "          const element = document.querySelector('#df-4c675d05-670b-4e22-a284-fdac433f6073');\n",
              "          const dataTable =\n",
              "            await google.colab.kernel.invokeFunction('convertToInteractive',\n",
              "                                                     [key], {});\n",
              "          if (!dataTable) return;\n",
              "\n",
              "          const docLinkHtml = 'Like what you see? Visit the ' +\n",
              "            '<a target=\"_blank\" href=https://colab.research.google.com/notebooks/data_table.ipynb>data table notebook</a>'\n",
              "            + ' to learn more about interactive tables.';\n",
              "          element.innerHTML = '';\n",
              "          dataTable['output_type'] = 'display_data';\n",
              "          await google.colab.output.renderOutput(dataTable, element);\n",
              "          const docLink = document.createElement('div');\n",
              "          docLink.innerHTML = docLinkHtml;\n",
              "          element.appendChild(docLink);\n",
              "        }\n",
              "      </script>\n",
              "    </div>\n",
              "  </div>\n",
              "  "
            ],
            "text/plain": [
              "        duration_sec  ... bike_share_for_all_trip\n",
              "183407           480  ...                      No\n",
              "183408           313  ...                      No\n",
              "183409           141  ...                     Yes\n",
              "183410           139  ...                      No\n",
              "183411           271  ...                      No\n",
              "\n",
              "[5 rows x 16 columns]"
            ]
          },
          "metadata": {},
          "execution_count": 4
        }
      ]
    },
    {
      "cell_type": "code",
      "source": [
        "df.shape"
      ],
      "metadata": {
        "colab": {
          "base_uri": "https://localhost:8080/"
        },
        "id": "HEt5kSp9fFar",
        "outputId": "8245506b-d197-4e70-c26e-579d34f4dfeb"
      },
      "execution_count": null,
      "outputs": [
        {
          "output_type": "execute_result",
          "data": {
            "text/plain": [
              "(183412, 16)"
            ]
          },
          "metadata": {},
          "execution_count": 5
        }
      ]
    },
    {
      "cell_type": "code",
      "source": [
        "df.dtypes"
      ],
      "metadata": {
        "colab": {
          "base_uri": "https://localhost:8080/"
        },
        "id": "dHvhsU-ahwev",
        "outputId": "b76e9d8d-b540-4f13-f0ba-6cef816c26fa"
      },
      "execution_count": null,
      "outputs": [
        {
          "output_type": "execute_result",
          "data": {
            "text/plain": [
              "duration_sec                 int64\n",
              "start_time                  object\n",
              "end_time                    object\n",
              "start_station_id           float64\n",
              "start_station_name          object\n",
              "start_station_latitude     float64\n",
              "start_station_longitude    float64\n",
              "end_station_id             float64\n",
              "end_station_name            object\n",
              "end_station_latitude       float64\n",
              "end_station_longitude      float64\n",
              "bike_id                      int64\n",
              "user_type                   object\n",
              "member_birth_year          float64\n",
              "member_gender               object\n",
              "bike_share_for_all_trip     object\n",
              "dtype: object"
            ]
          },
          "metadata": {},
          "execution_count": 6
        }
      ]
    },
    {
      "cell_type": "code",
      "source": [
        "df.describe()"
      ],
      "metadata": {
        "colab": {
          "base_uri": "https://localhost:8080/",
          "height": 364
        },
        "id": "5CGHXWxPhz3K",
        "outputId": "c15e30ea-9df0-4258-e5f0-81de9f081e25"
      },
      "execution_count": null,
      "outputs": [
        {
          "output_type": "execute_result",
          "data": {
            "text/html": [
              "\n",
              "  <div id=\"df-d8570754-7afd-4a4f-bbbb-0c9c2c9edf86\">\n",
              "    <div class=\"colab-df-container\">\n",
              "      <div>\n",
              "<style scoped>\n",
              "    .dataframe tbody tr th:only-of-type {\n",
              "        vertical-align: middle;\n",
              "    }\n",
              "\n",
              "    .dataframe tbody tr th {\n",
              "        vertical-align: top;\n",
              "    }\n",
              "\n",
              "    .dataframe thead th {\n",
              "        text-align: right;\n",
              "    }\n",
              "</style>\n",
              "<table border=\"1\" class=\"dataframe\">\n",
              "  <thead>\n",
              "    <tr style=\"text-align: right;\">\n",
              "      <th></th>\n",
              "      <th>duration_sec</th>\n",
              "      <th>start_station_id</th>\n",
              "      <th>start_station_latitude</th>\n",
              "      <th>start_station_longitude</th>\n",
              "      <th>end_station_id</th>\n",
              "      <th>end_station_latitude</th>\n",
              "      <th>end_station_longitude</th>\n",
              "      <th>bike_id</th>\n",
              "      <th>member_birth_year</th>\n",
              "    </tr>\n",
              "  </thead>\n",
              "  <tbody>\n",
              "    <tr>\n",
              "      <th>count</th>\n",
              "      <td>183412.000000</td>\n",
              "      <td>183215.000000</td>\n",
              "      <td>183412.000000</td>\n",
              "      <td>183412.000000</td>\n",
              "      <td>183215.000000</td>\n",
              "      <td>183412.000000</td>\n",
              "      <td>183412.000000</td>\n",
              "      <td>183412.000000</td>\n",
              "      <td>175147.000000</td>\n",
              "    </tr>\n",
              "    <tr>\n",
              "      <th>mean</th>\n",
              "      <td>726.078435</td>\n",
              "      <td>138.590427</td>\n",
              "      <td>37.771223</td>\n",
              "      <td>-122.352664</td>\n",
              "      <td>136.249123</td>\n",
              "      <td>37.771427</td>\n",
              "      <td>-122.352250</td>\n",
              "      <td>4472.906375</td>\n",
              "      <td>1984.806437</td>\n",
              "    </tr>\n",
              "    <tr>\n",
              "      <th>std</th>\n",
              "      <td>1794.389780</td>\n",
              "      <td>111.778864</td>\n",
              "      <td>0.099581</td>\n",
              "      <td>0.117097</td>\n",
              "      <td>111.515131</td>\n",
              "      <td>0.099490</td>\n",
              "      <td>0.116673</td>\n",
              "      <td>1664.383394</td>\n",
              "      <td>10.116689</td>\n",
              "    </tr>\n",
              "    <tr>\n",
              "      <th>min</th>\n",
              "      <td>61.000000</td>\n",
              "      <td>3.000000</td>\n",
              "      <td>37.317298</td>\n",
              "      <td>-122.453704</td>\n",
              "      <td>3.000000</td>\n",
              "      <td>37.317298</td>\n",
              "      <td>-122.453704</td>\n",
              "      <td>11.000000</td>\n",
              "      <td>1878.000000</td>\n",
              "    </tr>\n",
              "    <tr>\n",
              "      <th>25%</th>\n",
              "      <td>325.000000</td>\n",
              "      <td>47.000000</td>\n",
              "      <td>37.770083</td>\n",
              "      <td>-122.412408</td>\n",
              "      <td>44.000000</td>\n",
              "      <td>37.770407</td>\n",
              "      <td>-122.411726</td>\n",
              "      <td>3777.000000</td>\n",
              "      <td>1980.000000</td>\n",
              "    </tr>\n",
              "    <tr>\n",
              "      <th>50%</th>\n",
              "      <td>514.000000</td>\n",
              "      <td>104.000000</td>\n",
              "      <td>37.780760</td>\n",
              "      <td>-122.398285</td>\n",
              "      <td>100.000000</td>\n",
              "      <td>37.781010</td>\n",
              "      <td>-122.398279</td>\n",
              "      <td>4958.000000</td>\n",
              "      <td>1987.000000</td>\n",
              "    </tr>\n",
              "    <tr>\n",
              "      <th>75%</th>\n",
              "      <td>796.000000</td>\n",
              "      <td>239.000000</td>\n",
              "      <td>37.797280</td>\n",
              "      <td>-122.286533</td>\n",
              "      <td>235.000000</td>\n",
              "      <td>37.797320</td>\n",
              "      <td>-122.288045</td>\n",
              "      <td>5502.000000</td>\n",
              "      <td>1992.000000</td>\n",
              "    </tr>\n",
              "    <tr>\n",
              "      <th>max</th>\n",
              "      <td>85444.000000</td>\n",
              "      <td>398.000000</td>\n",
              "      <td>37.880222</td>\n",
              "      <td>-121.874119</td>\n",
              "      <td>398.000000</td>\n",
              "      <td>37.880222</td>\n",
              "      <td>-121.874119</td>\n",
              "      <td>6645.000000</td>\n",
              "      <td>2001.000000</td>\n",
              "    </tr>\n",
              "  </tbody>\n",
              "</table>\n",
              "</div>\n",
              "      <button class=\"colab-df-convert\" onclick=\"convertToInteractive('df-d8570754-7afd-4a4f-bbbb-0c9c2c9edf86')\"\n",
              "              title=\"Convert this dataframe to an interactive table.\"\n",
              "              style=\"display:none;\">\n",
              "        \n",
              "  <svg xmlns=\"http://www.w3.org/2000/svg\" height=\"24px\"viewBox=\"0 0 24 24\"\n",
              "       width=\"24px\">\n",
              "    <path d=\"M0 0h24v24H0V0z\" fill=\"none\"/>\n",
              "    <path d=\"M18.56 5.44l.94 2.06.94-2.06 2.06-.94-2.06-.94-.94-2.06-.94 2.06-2.06.94zm-11 1L8.5 8.5l.94-2.06 2.06-.94-2.06-.94L8.5 2.5l-.94 2.06-2.06.94zm10 10l.94 2.06.94-2.06 2.06-.94-2.06-.94-.94-2.06-.94 2.06-2.06.94z\"/><path d=\"M17.41 7.96l-1.37-1.37c-.4-.4-.92-.59-1.43-.59-.52 0-1.04.2-1.43.59L10.3 9.45l-7.72 7.72c-.78.78-.78 2.05 0 2.83L4 21.41c.39.39.9.59 1.41.59.51 0 1.02-.2 1.41-.59l7.78-7.78 2.81-2.81c.8-.78.8-2.07 0-2.86zM5.41 20L4 18.59l7.72-7.72 1.47 1.35L5.41 20z\"/>\n",
              "  </svg>\n",
              "      </button>\n",
              "      \n",
              "  <style>\n",
              "    .colab-df-container {\n",
              "      display:flex;\n",
              "      flex-wrap:wrap;\n",
              "      gap: 12px;\n",
              "    }\n",
              "\n",
              "    .colab-df-convert {\n",
              "      background-color: #E8F0FE;\n",
              "      border: none;\n",
              "      border-radius: 50%;\n",
              "      cursor: pointer;\n",
              "      display: none;\n",
              "      fill: #1967D2;\n",
              "      height: 32px;\n",
              "      padding: 0 0 0 0;\n",
              "      width: 32px;\n",
              "    }\n",
              "\n",
              "    .colab-df-convert:hover {\n",
              "      background-color: #E2EBFA;\n",
              "      box-shadow: 0px 1px 2px rgba(60, 64, 67, 0.3), 0px 1px 3px 1px rgba(60, 64, 67, 0.15);\n",
              "      fill: #174EA6;\n",
              "    }\n",
              "\n",
              "    [theme=dark] .colab-df-convert {\n",
              "      background-color: #3B4455;\n",
              "      fill: #D2E3FC;\n",
              "    }\n",
              "\n",
              "    [theme=dark] .colab-df-convert:hover {\n",
              "      background-color: #434B5C;\n",
              "      box-shadow: 0px 1px 3px 1px rgba(0, 0, 0, 0.15);\n",
              "      filter: drop-shadow(0px 1px 2px rgba(0, 0, 0, 0.3));\n",
              "      fill: #FFFFFF;\n",
              "    }\n",
              "  </style>\n",
              "\n",
              "      <script>\n",
              "        const buttonEl =\n",
              "          document.querySelector('#df-d8570754-7afd-4a4f-bbbb-0c9c2c9edf86 button.colab-df-convert');\n",
              "        buttonEl.style.display =\n",
              "          google.colab.kernel.accessAllowed ? 'block' : 'none';\n",
              "\n",
              "        async function convertToInteractive(key) {\n",
              "          const element = document.querySelector('#df-d8570754-7afd-4a4f-bbbb-0c9c2c9edf86');\n",
              "          const dataTable =\n",
              "            await google.colab.kernel.invokeFunction('convertToInteractive',\n",
              "                                                     [key], {});\n",
              "          if (!dataTable) return;\n",
              "\n",
              "          const docLinkHtml = 'Like what you see? Visit the ' +\n",
              "            '<a target=\"_blank\" href=https://colab.research.google.com/notebooks/data_table.ipynb>data table notebook</a>'\n",
              "            + ' to learn more about interactive tables.';\n",
              "          element.innerHTML = '';\n",
              "          dataTable['output_type'] = 'display_data';\n",
              "          await google.colab.output.renderOutput(dataTable, element);\n",
              "          const docLink = document.createElement('div');\n",
              "          docLink.innerHTML = docLinkHtml;\n",
              "          element.appendChild(docLink);\n",
              "        }\n",
              "      </script>\n",
              "    </div>\n",
              "  </div>\n",
              "  "
            ],
            "text/plain": [
              "        duration_sec  start_station_id  ...        bike_id  member_birth_year\n",
              "count  183412.000000     183215.000000  ...  183412.000000      175147.000000\n",
              "mean      726.078435        138.590427  ...    4472.906375        1984.806437\n",
              "std      1794.389780        111.778864  ...    1664.383394          10.116689\n",
              "min        61.000000          3.000000  ...      11.000000        1878.000000\n",
              "25%       325.000000         47.000000  ...    3777.000000        1980.000000\n",
              "50%       514.000000        104.000000  ...    4958.000000        1987.000000\n",
              "75%       796.000000        239.000000  ...    5502.000000        1992.000000\n",
              "max     85444.000000        398.000000  ...    6645.000000        2001.000000\n",
              "\n",
              "[8 rows x 9 columns]"
            ]
          },
          "metadata": {},
          "execution_count": 7
        }
      ]
    },
    {
      "cell_type": "markdown",
      "source": [
        "**What is the structure of your dataset?**\n",
        "\n",
        "The dataset includes 183,412 trips 'rows' with 16 features 'columns'. Out of 16 features, seven are float64, two are int64, and seven objects. Also, start and end time have the wrong datatype( string instead of date-time object)."
      ],
      "metadata": {
        "id": "DgrzCPKZi6E_"
      }
    },
    {
      "cell_type": "markdown",
      "source": [
        "**What is/are the main feature(s) of interest in your dataset?**\n",
        "\n",
        "According to me, the main features are the duration of the trip, origination and conclusion of trips, the user-type and most used stations.\n",
        "\n"
      ],
      "metadata": {
        "id": "0UEgMOEWjfdr"
      }
    },
    {
      "cell_type": "markdown",
      "source": [
        "**What features in the dataset do you think will help support your investigation into your feature(s) of interest?**\n",
        "\n",
        "  * duration_sec\n",
        "  * start_time\n",
        "  * end_time\n",
        "  * user_type\n",
        "  * start_station_name\n",
        "  * end_station_name\n",
        "\n",
        "\n"
      ],
      "metadata": {
        "id": "WVUfCbohkFBk"
      }
    },
    {
      "cell_type": "markdown",
      "source": [
        "#Cleaning Data"
      ],
      "metadata": {
        "id": "n6PbG_Br3v4h"
      }
    },
    {
      "cell_type": "markdown",
      "source": [
        "###**1.Definition** - Making a copy of provided dataframe to retain original values for future comparision."
      ],
      "metadata": {
        "id": "FYybulEZbOXT"
      }
    },
    {
      "cell_type": "markdown",
      "source": [
        "###**Code**"
      ],
      "metadata": {
        "id": "WHX9Tgfibbxn"
      }
    },
    {
      "cell_type": "code",
      "source": [
        "df_copy = df.copy()"
      ],
      "metadata": {
        "id": "Kg2hjamxbd5B"
      },
      "execution_count": null,
      "outputs": []
    },
    {
      "cell_type": "markdown",
      "source": [
        "###**2. Definition** - Start and End times of trips are given in String format and thus need to be changed into Date-time object as it would further facilitate the calsulations and visualisation process."
      ],
      "metadata": {
        "id": "SvsQccLCWgDx"
      }
    },
    {
      "cell_type": "markdown",
      "source": [
        "###**Code**"
      ],
      "metadata": {
        "id": "uki1CwYoXPEj"
      }
    },
    {
      "cell_type": "code",
      "source": [
        "#changing datatype of 'start_time' & 'end_time' into datetime object\n",
        "df.start_time = pd.to_datetime(df.start_time)\n",
        "df.end_time = pd.to_datetime(df.end_time)"
      ],
      "metadata": {
        "id": "bLE_eOiUicol"
      },
      "execution_count": null,
      "outputs": []
    },
    {
      "cell_type": "markdown",
      "source": [
        "###**testing acquired Changes**"
      ],
      "metadata": {
        "id": "55u1juoGW43v"
      }
    },
    {
      "cell_type": "code",
      "source": [
        "df.dtypes"
      ],
      "metadata": {
        "colab": {
          "base_uri": "https://localhost:8080/"
        },
        "id": "1s6IiSoGW8-N",
        "outputId": "922d85c2-38b6-4726-fd5a-b5d34d9506dd"
      },
      "execution_count": null,
      "outputs": [
        {
          "output_type": "execute_result",
          "data": {
            "text/plain": [
              "duration_sec                        int64\n",
              "start_time                 datetime64[ns]\n",
              "end_time                   datetime64[ns]\n",
              "start_station_id                  float64\n",
              "start_station_name                 object\n",
              "start_station_latitude            float64\n",
              "start_station_longitude           float64\n",
              "end_station_id                    float64\n",
              "end_station_name                   object\n",
              "end_station_latitude              float64\n",
              "end_station_longitude             float64\n",
              "bike_id                             int64\n",
              "user_type                          object\n",
              "member_birth_year                 float64\n",
              "member_gender                      object\n",
              "bike_share_for_all_trip            object\n",
              "dtype: object"
            ]
          },
          "metadata": {},
          "execution_count": 10
        }
      ]
    },
    {
      "cell_type": "markdown",
      "source": [
        "###**3.Definition** - Ahead, Checking for data redundancy and duplicacy in particular.\n",
        "\n"
      ],
      "metadata": {
        "id": "c2hla49OXA27"
      }
    },
    {
      "cell_type": "markdown",
      "source": [
        "###**Code**"
      ],
      "metadata": {
        "id": "FGUhN9q_XkO9"
      }
    },
    {
      "cell_type": "code",
      "source": [
        "#check if any rows are duplicated\n",
        "sum(df.duplicated())"
      ],
      "metadata": {
        "colab": {
          "base_uri": "https://localhost:8080/"
        },
        "id": "tuwAazbpiUZl",
        "outputId": "14f5ddc8-8da3-4e6b-b6e2-c213297183e5"
      },
      "execution_count": null,
      "outputs": [
        {
          "output_type": "execute_result",
          "data": {
            "text/plain": [
              "0"
            ]
          },
          "metadata": {},
          "execution_count": 11
        }
      ]
    },
    {
      "cell_type": "markdown",
      "source": [
        "### **Test Result** - "
      ],
      "metadata": {
        "id": "ulQA-GgKXovw"
      }
    },
    {
      "cell_type": "markdown",
      "source": [
        "No Duplicacy Found"
      ],
      "metadata": {
        "id": "oYeG7LygFPJY"
      }
    },
    {
      "cell_type": "markdown",
      "source": [
        "###**4.Definition** - Extracting Hours and minutes from Date-Time object(\"start_time\" and \"end_time\") into new added respectible columns for further extraction of data into subpart for reducing complexity and better visualization."
      ],
      "metadata": {
        "id": "1mSWbEVIXuEo"
      }
    },
    {
      "cell_type": "markdown",
      "source": [
        "###**Code**"
      ],
      "metadata": {
        "id": "AUtmgEj_YTYn"
      }
    },
    {
      "cell_type": "code",
      "source": [
        "#extract the hours from start time \n",
        "df['start_time_hours']=df['start_time'].dt.hour\n",
        "#extract the minute from start time \n",
        "df['start_time_minutes']=df['start_time'].dt.minute + df['start_time_hours']*60"
      ],
      "metadata": {
        "id": "NAu2MLrmjzYE"
      },
      "execution_count": null,
      "outputs": []
    },
    {
      "cell_type": "code",
      "source": [
        "#extract the hours from end time \n",
        "df['end_time_hours']=df['end_time'].dt.hour\n",
        "#extract the minute from end time \n",
        "df['end_time_minutes']=df['end_time'].dt.minute + df['start_time_hours']*60"
      ],
      "metadata": {
        "id": "C8KxObg7j2v8"
      },
      "execution_count": null,
      "outputs": []
    },
    {
      "cell_type": "markdown",
      "source": [
        "###**Testing above made changes**"
      ],
      "metadata": {
        "id": "rLQKaCZfYeqf"
      }
    },
    {
      "cell_type": "code",
      "source": [
        "df.info()"
      ],
      "metadata": {
        "colab": {
          "base_uri": "https://localhost:8080/"
        },
        "id": "nDWfL214YizV",
        "outputId": "8f9e9800-bd22-4f7b-8778-cf2c194b4ec7"
      },
      "execution_count": null,
      "outputs": [
        {
          "output_type": "stream",
          "name": "stdout",
          "text": [
            "<class 'pandas.core.frame.DataFrame'>\n",
            "RangeIndex: 183412 entries, 0 to 183411\n",
            "Data columns (total 20 columns):\n",
            " #   Column                   Non-Null Count   Dtype         \n",
            "---  ------                   --------------   -----         \n",
            " 0   duration_sec             183412 non-null  int64         \n",
            " 1   start_time               183412 non-null  datetime64[ns]\n",
            " 2   end_time                 183412 non-null  datetime64[ns]\n",
            " 3   start_station_id         183215 non-null  float64       \n",
            " 4   start_station_name       183215 non-null  object        \n",
            " 5   start_station_latitude   183412 non-null  float64       \n",
            " 6   start_station_longitude  183412 non-null  float64       \n",
            " 7   end_station_id           183215 non-null  float64       \n",
            " 8   end_station_name         183215 non-null  object        \n",
            " 9   end_station_latitude     183412 non-null  float64       \n",
            " 10  end_station_longitude    183412 non-null  float64       \n",
            " 11  bike_id                  183412 non-null  int64         \n",
            " 12  user_type                183412 non-null  object        \n",
            " 13  member_birth_year        175147 non-null  float64       \n",
            " 14  member_gender            175147 non-null  object        \n",
            " 15  bike_share_for_all_trip  183412 non-null  object        \n",
            " 16  start_time_hours         183412 non-null  int64         \n",
            " 17  start_time_minutes       183412 non-null  int64         \n",
            " 18  end_time_hours           183412 non-null  int64         \n",
            " 19  end_time_minutes         183412 non-null  int64         \n",
            "dtypes: datetime64[ns](2), float64(7), int64(6), object(5)\n",
            "memory usage: 28.0+ MB\n"
          ]
        }
      ]
    },
    {
      "cell_type": "markdown",
      "source": [
        "###**5.Definition** - Finally Extracting Month Number from given timestamps. \n",
        "(We do not need to extract Year as this data in collected from 2019 only.)"
      ],
      "metadata": {
        "id": "cKHjZfEEY-ys"
      }
    },
    {
      "cell_type": "markdown",
      "source": [
        "###**Code**"
      ],
      "metadata": {
        "id": "zlEBHBRSZ-u6"
      }
    },
    {
      "cell_type": "code",
      "source": [
        "df['month']=df.start_time.dt.month"
      ],
      "metadata": {
        "id": "5aYaXIFdj2sk"
      },
      "execution_count": null,
      "outputs": []
    },
    {
      "cell_type": "markdown",
      "source": [
        "###**Testing above made changes**"
      ],
      "metadata": {
        "id": "wsZiqZB9aEoi"
      }
    },
    {
      "cell_type": "code",
      "source": [
        "df.info()"
      ],
      "metadata": {
        "colab": {
          "base_uri": "https://localhost:8080/"
        },
        "id": "KiP1-aZtaGkF",
        "outputId": "18aba1c7-bf26-4c16-da0a-dec29cee63c7"
      },
      "execution_count": null,
      "outputs": [
        {
          "output_type": "stream",
          "name": "stdout",
          "text": [
            "<class 'pandas.core.frame.DataFrame'>\n",
            "RangeIndex: 183412 entries, 0 to 183411\n",
            "Data columns (total 21 columns):\n",
            " #   Column                   Non-Null Count   Dtype         \n",
            "---  ------                   --------------   -----         \n",
            " 0   duration_sec             183412 non-null  int64         \n",
            " 1   start_time               183412 non-null  datetime64[ns]\n",
            " 2   end_time                 183412 non-null  datetime64[ns]\n",
            " 3   start_station_id         183215 non-null  float64       \n",
            " 4   start_station_name       183215 non-null  object        \n",
            " 5   start_station_latitude   183412 non-null  float64       \n",
            " 6   start_station_longitude  183412 non-null  float64       \n",
            " 7   end_station_id           183215 non-null  float64       \n",
            " 8   end_station_name         183215 non-null  object        \n",
            " 9   end_station_latitude     183412 non-null  float64       \n",
            " 10  end_station_longitude    183412 non-null  float64       \n",
            " 11  bike_id                  183412 non-null  int64         \n",
            " 12  user_type                183412 non-null  object        \n",
            " 13  member_birth_year        175147 non-null  float64       \n",
            " 14  member_gender            175147 non-null  object        \n",
            " 15  bike_share_for_all_trip  183412 non-null  object        \n",
            " 16  start_time_hours         183412 non-null  int64         \n",
            " 17  start_time_minutes       183412 non-null  int64         \n",
            " 18  end_time_hours           183412 non-null  int64         \n",
            " 19  end_time_minutes         183412 non-null  int64         \n",
            " 20  month                    183412 non-null  int64         \n",
            "dtypes: datetime64[ns](2), float64(7), int64(7), object(5)\n",
            "memory usage: 29.4+ MB\n"
          ]
        }
      ]
    },
    {
      "cell_type": "markdown",
      "source": [
        "###**6.Definition** - \n",
        "  * Dropping irrelevant columns from our Data Base.\n",
        "  * Dropping Rows with Null values for removing all NAN values from our database.\n"
      ],
      "metadata": {
        "id": "C0aF5OXqaKCZ"
      }
    },
    {
      "cell_type": "markdown",
      "source": [
        "###**Code**"
      ],
      "metadata": {
        "id": "OZIW1ttdaXG3"
      }
    },
    {
      "cell_type": "code",
      "source": [
        "#dropping irrelevant columns\n",
        "df.drop(['start_station_latitude', 'start_station_longitude','end_station_latitude', 'end_station_longitude'] ,axis =1 , inplace = True)"
      ],
      "metadata": {
        "id": "_X5d55eesaUd"
      },
      "execution_count": null,
      "outputs": []
    },
    {
      "cell_type": "code",
      "source": [
        "df=df.dropna()"
      ],
      "metadata": {
        "id": "C7xtWEgnbKXk"
      },
      "execution_count": null,
      "outputs": []
    },
    {
      "cell_type": "markdown",
      "source": [
        "###**Testing above made alteration.**"
      ],
      "metadata": {
        "id": "00e6TNE8anhH"
      }
    },
    {
      "cell_type": "code",
      "source": [
        "df.isna().sum()"
      ],
      "metadata": {
        "colab": {
          "base_uri": "https://localhost:8080/"
        },
        "id": "ZUgw22cih8dz",
        "outputId": "4ba735e6-f26e-40b9-ba37-885eca5409c4"
      },
      "execution_count": null,
      "outputs": [
        {
          "output_type": "execute_result",
          "data": {
            "text/plain": [
              "duration_sec               0\n",
              "start_time                 0\n",
              "end_time                   0\n",
              "start_station_id           0\n",
              "start_station_name         0\n",
              "end_station_id             0\n",
              "end_station_name           0\n",
              "bike_id                    0\n",
              "user_type                  0\n",
              "member_birth_year          0\n",
              "member_gender              0\n",
              "bike_share_for_all_trip    0\n",
              "start_time_hours           0\n",
              "start_time_minutes         0\n",
              "end_time_hours             0\n",
              "end_time_minutes           0\n",
              "month                      0\n",
              "dtype: int64"
            ]
          },
          "metadata": {},
          "execution_count": 19
        }
      ]
    },
    {
      "cell_type": "markdown",
      "source": [
        "#Storing Data"
      ],
      "metadata": {
        "id": "-ZE1SfM030CJ"
      }
    },
    {
      "cell_type": "markdown",
      "source": [
        "###**Saving Engineered Database in a csv file**"
      ],
      "metadata": {
        "id": "kCs6niVMcGnR"
      }
    },
    {
      "cell_type": "code",
      "source": [
        "df.to_csv(\"fordbike_engineered.csv\")"
      ],
      "metadata": {
        "id": "epO_6AHX4Cbe"
      },
      "execution_count": null,
      "outputs": []
    },
    {
      "cell_type": "markdown",
      "source": [
        "#Analyzing Data"
      ],
      "metadata": {
        "id": "U_bUd7G933mQ"
      }
    },
    {
      "cell_type": "markdown",
      "source": [
        "##**Univariate Exploration**"
      ],
      "metadata": {
        "id": "dE7fQGa1keOE"
      }
    },
    {
      "cell_type": "markdown",
      "source": [
        "### Analyse the ratio of User Type : Customer/Subscriber"
      ],
      "metadata": {
        "id": "doazy9VOSz8b"
      }
    },
    {
      "cell_type": "code",
      "source": [
        "#BoxPlot representing User Type : Customer/Subscriber\n",
        "plt.figure(figsize = (10, 5))\n",
        "sb.countplot(data=df,x='user_type')\n",
        "plt.title(\"Type of Users\")\n",
        "plt.xlabel('User Type')\n",
        "plt.ylabel('Number of Users')\n",
        "plt.show()\n"
      ],
      "metadata": {
        "colab": {
          "base_uri": "https://localhost:8080/",
          "height": 349
        },
        "id": "9oTcjBMawe0y",
        "outputId": "ecf92723-2350-4d23-8cec-baf8c05fc8ed"
      },
      "execution_count": 79,
      "outputs": [
        {
          "output_type": "display_data",
          "data": {
            "image/png": "[encoded data removed]",
            "text/plain": [
              "<Figure size 720x360 with 1 Axes>"
            ]
          },
          "metadata": {}
        }
      ]
    },
    {
      "cell_type": "markdown",
      "source": [
        "Above chart suggests that majority of users are Subscribers while, a lesser number of usrs fall under 'Customer' category"
      ],
      "metadata": {
        "id": "B0NDN2M8S_eK"
      }
    },
    {
      "cell_type": "markdown",
      "source": [
        "### Which Age group comprises most of our User Database?\n"
      ],
      "metadata": {
        "id": "g9Q8d7WATPla"
      }
    },
    {
      "cell_type": "code",
      "source": [
        "#Histogram Plot depicting member's spread on the basis of their Age \n",
        "df['Age'] =  2019- df['member_birth_year'] \n",
        "plt.figure(figsize=(10,5))\n",
        "plt.hist(data=df,x='Age')\n",
        "plt.title('User Age Analysis')\n",
        "plt.xlabel('Age')\n",
        "plt.ylabel('Number of Users')\n",
        "plt.show()"
      ],
      "metadata": {
        "colab": {
          "base_uri": "https://localhost:8080/",
          "height": 349
        },
        "id": "xNVvfxIQrdVL",
        "outputId": "92aa3920-e479-4ecc-aa26-942934b92d23"
      },
      "execution_count": null,
      "outputs": [
        {
          "output_type": "display_data",
          "data": {
            "image/png": "[encoded data removed]",
            "text/plain": [
              "<Figure size 720x360 with 1 Axes>"
            ]
          },
          "metadata": {}
        }
      ]
    },
    {
      "cell_type": "markdown",
      "source": [
        "Above histogram clearly shows, \n",
        "  * People of age '18' to '25', comprise most of our Users.\n",
        "  * We see clear fall in user count as their Age progress."
      ],
      "metadata": {
        "id": "w_IA6bhVThVU"
      }
    },
    {
      "cell_type": "markdown",
      "source": [
        "###Function to plot Univariate Barplots with specified X-Label."
      ],
      "metadata": {
        "id": "HHU3G9y1UVqQ"
      }
    },
    {
      "cell_type": "code",
      "source": [
        "#Function to plot Univariate Barplots with specified X-Label.\n",
        "def funcbarplot(df, x):\n",
        "  mg=df.groupby(x).size()\n",
        "  plt.figure(figsize = (10, 5))\n",
        "  sb.barplot(x = mg.index, y = mg.values)\n",
        "  plt.title(f\"{x} Ratio\")\n",
        "  plt.xlabel(f'{x} Type')\n",
        "  plt.ylabel('Number of Members')\n",
        "  plt.show()"
      ],
      "metadata": {
        "id": "8YLXLMZY2stF"
      },
      "execution_count": 96,
      "outputs": []
    },
    {
      "cell_type": "markdown",
      "source": [
        "### Which Gender type comprises most of our Users?"
      ],
      "metadata": {
        "id": "RrkqMcHjUadB"
      }
    },
    {
      "cell_type": "code",
      "source": [
        "#BarPlot representing member gender ratio\n",
        "funcbarplot(df,'member_gender')"
      ],
      "metadata": {
        "colab": {
          "base_uri": "https://localhost:8080/",
          "height": 349
        },
        "id": "LQSGsj8vuW-I",
        "outputId": "f869b40f-4eac-408d-c9fa-6c55c66e1acc"
      },
      "execution_count": 97,
      "outputs": [
        {
          "output_type": "display_data",
          "data": {
            "image/png": "[encoded data removed]",
            "text/plain": [
              "<Figure size 720x360 with 1 Axes>"
            ]
          },
          "metadata": {}
        }
      ]
    },
    {
      "cell_type": "markdown",
      "source": [
        "Above BarPlot shows,\n",
        "  * \"Male\" users dominate in number, with a total of 135000(approx) Users.\n",
        "  * \"Female\" users fall 2nd in count ratio, with a total number close to 40000.\n",
        "  * Users of \"Other\" gender type are least in number. Their total number lies close to 3000 users."
      ],
      "metadata": {
        "id": "Kw6CQEtgUslq"
      }
    },
    {
      "cell_type": "markdown",
      "source": [
        "### Do users preffer to share their ride with other users?\n"
      ],
      "metadata": {
        "id": "fNU-hi88V1Sq"
      }
    },
    {
      "cell_type": "code",
      "source": [
        "#BarPlot representing member gender ratio\n",
        "funcbarplot(df,'bike_share_for_all_trip')"
      ],
      "metadata": {
        "colab": {
          "base_uri": "https://localhost:8080/",
          "height": 349
        },
        "id": "yQPjL4I4xfOv",
        "outputId": "4225c5ba-1cea-4981-ccb3-7561abd288ae"
      },
      "execution_count": 58,
      "outputs": [
        {
          "output_type": "display_data",
          "data": {
            "image/png": "[encoded data removed]",
            "text/plain": [
              "<Figure size 720x360 with 1 Axes>"
            ]
          },
          "metadata": {}
        }
      ]
    },
    {
      "cell_type": "markdown",
      "source": [
        "No, We can clearly see, majority of our users do not preffer sharing their rides with other users."
      ],
      "metadata": {
        "id": "7RXd4F9gV-CT"
      }
    },
    {
      "cell_type": "markdown",
      "source": [
        "### Function to plot barchart of Station on basis of trips onboarded and deboarded. "
      ],
      "metadata": {
        "id": "cIMAYy13WNEy"
      }
    },
    {
      "cell_type": "code",
      "source": [
        "def funcbarh(df,x):\n",
        "  df[x].value_counts()[:12].plot(kind='barh')\n",
        "  plt.title(f'Most Used {x}')\n",
        "  plt.show()"
      ],
      "metadata": {
        "id": "mCSVTCTD5jTM"
      },
      "execution_count": 71,
      "outputs": []
    },
    {
      "cell_type": "markdown",
      "source": [
        "### A Barchart for depicting journey origination frquency of all stations."
      ],
      "metadata": {
        "id": "ubcx0_kAWdWu"
      }
    },
    {
      "cell_type": "code",
      "source": [
        "#A Barchart for depicting journey origination frquency of all stations. \n",
        "funcbarh(df,'start_station_name')"
      ],
      "metadata": {
        "colab": {
          "base_uri": "https://localhost:8080/",
          "height": 362
        },
        "id": "kbUdX7tCkTOD",
        "outputId": "5507eabb-c538-44cb-868b-5a82081b4238"
      },
      "execution_count": 74,
      "outputs": [
        {
          "output_type": "display_data",
          "data": {
            "image/png": "[encoded data removed]",
            "text/plain": [
              "<Figure size 576x396 with 1 Axes>"
            ]
          },
          "metadata": {}
        }
      ]
    },
    {
      "cell_type": "markdown",
      "source": [
        "Market st at 10th station is the most used as trip origination station."
      ],
      "metadata": {
        "id": "M3OmcBScW0vk"
      }
    },
    {
      "cell_type": "markdown",
      "source": [
        "### A Barchart for depicting journey conclusion frquency of all stations. \n"
      ],
      "metadata": {
        "id": "ZFKqk4rDWodI"
      }
    },
    {
      "cell_type": "code",
      "source": [
        "#A Barchart for depicting journey conclusion frquency of all stations. \n",
        "funcbarh(df,'end_station_name')"
      ],
      "metadata": {
        "colab": {
          "base_uri": "https://localhost:8080/",
          "height": 362
        },
        "id": "l8Kh245XkTKa",
        "outputId": "70ce74d6-a756-4bef-adb8-575007a364d4"
      },
      "execution_count": 75,
      "outputs": [
        {
          "output_type": "display_data",
          "data": {
            "image/png": "[encoded data removed]",
            "text/plain": [
              "<Figure size 576x396 with 1 Axes>"
            ]
          },
          "metadata": {}
        }
      ]
    },
    {
      "cell_type": "markdown",
      "source": [
        "San Francisco Caltrain Station 2 is most used as trip conclusion station."
      ],
      "metadata": {
        "id": "GJp58SCuWxDp"
      }
    },
    {
      "cell_type": "markdown",
      "source": [
        "###Histogram plot for plotting Frequency Vs time duration in seconds"
      ],
      "metadata": {
        "id": "ZuFtcLvfXHP8"
      }
    },
    {
      "cell_type": "code",
      "source": [
        "#Histogram plot for plotting Frequency Vs time duration in seconds\n",
        "plt.figure(figsize=(10,5))\n",
        "duration_bins = np.arange(1,df.duration_sec.max()+300,300)\n",
        "plt.hist(data=df,x='duration_sec',bins=duration_bins)\n",
        "plt.title('Trip Durations Vs Trip Frequency')\n",
        "plt.xlabel('Duration in \"seconds\"')\n",
        "plt.ylabel('Trip Frequency')\n",
        "plt.axis([-500, 10000, 0, 90000])\n",
        "plt.show()"
      ],
      "metadata": {
        "colab": {
          "base_uri": "https://localhost:8080/",
          "height": 350
        },
        "id": "mYuNDGDNxNRP",
        "outputId": "0b10027d-688d-40f7-e70c-ceeb95a4565f"
      },
      "execution_count": null,
      "outputs": [
        {
          "output_type": "display_data",
          "data": {
            "image/png": "[encoded data removed]",
            "text/plain": [
              "<Figure size 720x360 with 1 Axes>"
            ]
          },
          "metadata": {
            "needs_background": "light"
          }
        }
      ]
    },
    {
      "cell_type": "markdown",
      "source": [
        "###Discuss the distribution(s) of your variable(s) of interest. Were there any unusual points? Did you need to perform any transformations?"
      ],
      "metadata": {
        "id": "gsAWxkXTmpel"
      }
    },
    {
      "cell_type": "markdown",
      "source": [
        "The graph shows the most common trip durationz take 0-2000 seconds. The number of subscribers are significantly higher than customers in User-types. also, Market st at 10th street is the most used as trip origination station.\n",
        "And, San Francisco Caltrain Station 2 is most used as trip conclusion station."
      ],
      "metadata": {
        "id": "Lu6oCcDPmpVs"
      }
    },
    {
      "cell_type": "markdown",
      "source": [
        "###Of the features you investigated, were there any unusual distributions? Did you perform any operations on the data to tidy, adjust, or change the form of the data? If so, why did you do this?"
      ],
      "metadata": {
        "id": "sciyBLHampYr"
      }
    },
    {
      "cell_type": "markdown",
      "source": [
        "**YES!** There were some data redundancy and distribution issues in the used dataset and needed some cleaning. The problems adressed are as follows:\n",
        "\n",
        "  * Start and End times of trips are given in String format and thus need to be changed into Date-time object as it would further facilitate the calsulations and visualisation process.\n",
        "  * Extracting Hours and minutes from Date-Time object(\"start_time\" and \"end_time\") into new added respectible columns for further extraction of data into subpart for reducing complexity and better visualization.\n",
        "  * Extracting Month Number from given timestamps.\n",
        "(We do not need to extract Year as this data in collected from 2019 only.)\n",
        "  * Dropping irrelevant columns from our Data Base.\n",
        "  * Dropping Rows with Null values for removing all NAN values from our database."
      ],
      "metadata": {
        "id": "RA1y0K3QmpS2"
      }
    },
    {
      "cell_type": "markdown",
      "source": [
        "##Bivariate Exploration"
      ],
      "metadata": {
        "id": "3pcsGzmfko8R"
      }
    },
    {
      "cell_type": "markdown",
      "source": [
        "### Discuss trip sharing tendency of Users of different gender types."
      ],
      "metadata": {
        "id": "rH7A6F43QBEO"
      }
    },
    {
      "cell_type": "code",
      "source": [
        "#Function to plot Bike Sharing Tendency of users\n",
        "def funcMemberG(df,x):\n",
        "  df['Memberg'] = df['member_gender'].mask(df['member_gender'].ne(x))\n",
        "  df.groupby(['bike_share_for_all_trip'])['Memberg'].count().plot.bar()"
      ],
      "metadata": {
        "id": "LQEQVJ2JJRwu"
      },
      "execution_count": 122,
      "outputs": []
    },
    {
      "cell_type": "code",
      "source": [
        "#Function to Plot Bike Sharing Tendency of MALE users\n",
        "funcMemberG(df,\"Male\")"
      ],
      "metadata": {
        "colab": {
          "base_uri": "https://localhost:8080/",
          "height": 367
        },
        "id": "U8pIsORSH-zU",
        "outputId": "1de47aee-0568-4fa1-eba2-ac03efa3dd4f"
      },
      "execution_count": 123,
      "outputs": [
        {
          "output_type": "display_data",
          "data": {
            "image/png": "[encoded data removed]",
            "text/plain": [
              "<Figure size 576x396 with 1 Axes>"
            ]
          },
          "metadata": {}
        }
      ]
    },
    {
      "cell_type": "markdown",
      "source": [
        "We can clearly infer, \n",
        "  * Users with \"Male\" gender type are dominant in number.\n",
        "  * Their total number is close to 120000 users.\n",
        "  * Approximately 17500 Users of \"Male\" gender preffer to share their ride.\n",
        "  * Above given point indicates that such users have medium tendancy of all three genders to share their ride. Since approximately 1/6th of them share their ride."
      ],
      "metadata": {
        "id": "SSSYYoTANYHC"
      }
    },
    {
      "cell_type": "code",
      "source": [
        "#Function to Plot Bike Sharing Tendency of FEMALE users\n",
        "funcMemberG(df,\"Female\")"
      ],
      "metadata": {
        "colab": {
          "base_uri": "https://localhost:8080/",
          "height": 367
        },
        "id": "3Lq7muDkIkUn",
        "outputId": "4615e46f-1c88-462f-f44c-5d975890576d"
      },
      "execution_count": 124,
      "outputs": [
        {
          "output_type": "display_data",
          "data": {
            "image/png": "[encoded data removed]",
            "text/plain": [
              "<Figure size 576x396 with 1 Axes>"
            ]
          },
          "metadata": {}
        }
      ]
    },
    {
      "cell_type": "markdown",
      "source": [
        "We can clearly infer, \n",
        "  * Users with \"Female\" gender type are less in number than \"Male\" users.\n",
        "  * Their total number is close to 37500 users.\n",
        "  * Approximately 4000 Users of \"Female\" gender preffer to share their ride.\n",
        "  * Above given point indicates that such users have least tendancy to share their ride. Since approximately only 1/9th of them share their ride."
      ],
      "metadata": {
        "id": "phZj5uVqMrdv"
      }
    },
    {
      "cell_type": "code",
      "source": [
        "#Function to Plot Bike Sharing Tendency of OTHER users\n",
        "funcMemberG(df,\"Other\")"
      ],
      "metadata": {
        "colab": {
          "base_uri": "https://localhost:8080/",
          "height": 367
        },
        "id": "ic8w43QtIkQ-",
        "outputId": "a8b0b585-9750-4f83-8332-04bc2dec2112"
      },
      "execution_count": 125,
      "outputs": [
        {
          "output_type": "display_data",
          "data": {
            "image/png": "[encoded data removed]",
            "text/plain": [
              "<Figure size 576x396 with 1 Axes>"
            ]
          },
          "metadata": {}
        }
      ]
    },
    {
      "cell_type": "markdown",
      "source": [
        "We can clearly infer, \n",
        "  * Users with \"Other\" gender type are least in number.\n",
        "  * Their total number is close to 3000 users.\n",
        "  * Approximately 600 Users of \"Other\" gender preffer to share their ride.\n",
        "  * Above given point indicates that such users have maximum tendancy to share their ride. Since approximately 1/5th of them share their ride."
      ],
      "metadata": {
        "id": "Gj2j5mbyLOAK"
      }
    },
    {
      "cell_type": "markdown",
      "source": [
        "### Discuss trip duration tendency of Users of different gender types."
      ],
      "metadata": {
        "id": "cWJp4UHuPitS"
      }
    },
    {
      "cell_type": "code",
      "source": [
        "#Function to Plot Trip Duration Mean for Each Gender\n",
        "def funcplot(df, x):\n",
        "  plt.figure(figsize = (10, 5))\n",
        "  df.groupby(['member_gender'])[x].mean().plot.bar()\n",
        "  plt.title(f'{x} VS Member Gender Bar Graph')\n",
        "  plt.xlabel('Member Gender')\n",
        "  plt.ylabel(f'{x}')\n",
        "  plt.show()"
      ],
      "metadata": {
        "id": "HQZthDsU9ckA"
      },
      "execution_count": 91,
      "outputs": []
    },
    {
      "cell_type": "code",
      "source": [
        "funcplot(df,'duration_sec')"
      ],
      "metadata": {
        "colab": {
          "base_uri": "https://localhost:8080/",
          "height": 372
        },
        "id": "DmE7OiDp-DGb",
        "outputId": "73f1205f-e606-4b16-c092-c50cdb5fedac"
      },
      "execution_count": 92,
      "outputs": [
        {
          "output_type": "display_data",
          "data": {
            "image/png": "[encoded data removed]",
            "text/plain": [
              "<Figure size 720x360 with 1 Axes>"
            ]
          },
          "metadata": {}
        }
      ]
    },
    {
      "cell_type": "markdown",
      "source": [
        "We can clearly infer,\n",
        "  * Users of \"Other\" gender type tend to have longer trip duration.\n",
        "  * Female users travel more than Male users.\n",
        "  * Men tend to have travel for least duration. (We are all the same and lazy !)"
      ],
      "metadata": {
        "id": "HjwjyL1cOehP"
      }
    },
    {
      "cell_type": "markdown",
      "source": [
        "### Discuss trip duration tendency of Users of different User types."
      ],
      "metadata": {
        "id": "SnhpbGhbP4Tj"
      }
    },
    {
      "cell_type": "code",
      "source": [
        "# Boxplot showing trip duration per user type, ie; Customer/Subscriber\n",
        "sb.boxplot(data=df, x='user_type', y='duration_sec')\n",
        "plt.ylim(0,3000)\n",
        "plt.title(\"Bike Riding Duration Per User Type\")\n",
        "plt.xlabel('User Type')\n",
        "plt.ylabel('Duration')\n",
        "plt.show()"
      ],
      "metadata": {
        "colab": {
          "base_uri": "https://localhost:8080/",
          "height": 295
        },
        "id": "f8QKaySjxhV8",
        "outputId": "e8467e57-90e7-4465-9bd4-7732490ae40e"
      },
      "execution_count": null,
      "outputs": [
        {
          "output_type": "display_data",
          "data": {
            "image/png": "[encoded data removed]",
            "text/plain": [
              "<Figure size 432x288 with 1 Axes>"
            ]
          },
          "metadata": {
            "needs_background": "light"
          }
        }
      ]
    },
    {
      "cell_type": "markdown",
      "source": [
        "We can infer here,\n",
        "  * Customers tend to travel for longer durations.\n",
        "  * Subscribers travel for comparatively less duration. "
      ],
      "metadata": {
        "id": "pT8bjPlQQK30"
      }
    },
    {
      "cell_type": "markdown",
      "source": [
        "### Discuss trip duration tendency of Users from top 3 most Onboarded stations."
      ],
      "metadata": {
        "id": "B94cvPLKQwn9"
      }
    },
    {
      "cell_type": "code",
      "source": [
        "#boxplot for trip duration analysis of journeys from top three most used stations.\n",
        "start=df['start_station_name'].value_counts().index[:3]\n",
        "s_stations = df.loc[df['start_station_name'].isin(start)]\n",
        "\n",
        "plt.figure(figsize=(10,6))\n",
        "sb.boxplot(data = s_stations, x='start_station_name', y='duration_sec')\n",
        "plt.ylim(0, 2500)\n",
        "plt.style.use('seaborn')\n",
        "plt.title('Duration of Bike Rides from Three Onboarded Stations')\n",
        "plt.xlabel('Station Names')\n",
        "plt.ylabel('Duration \"seconds\"')"
      ],
      "metadata": {
        "colab": {
          "base_uri": "https://localhost:8080/",
          "height": 420
        },
        "id": "a1o4f1jzkTH2",
        "outputId": "2ac5990f-b948-4c06-d004-82fb0e2eefd4"
      },
      "execution_count": null,
      "outputs": [
        {
          "output_type": "execute_result",
          "data": {
            "text/plain": [
              "Text(0, 0.5, 'Duration \"seconds\"')"
            ]
          },
          "metadata": {},
          "execution_count": 27
        },
        {
          "output_type": "display_data",
          "data": {
            "image/png": "[encoded data removed]",
            "text/plain": [
              "<Figure size 720x432 with 1 Axes>"
            ]
          },
          "metadata": {
            "needs_background": "light"
          }
        }
      ]
    },
    {
      "cell_type": "markdown",
      "source": [
        "We can infer that,\n",
        "  * All stations share close to common trip durations.\n",
        "  * Trips started from Station 'San Francisco Caltrain Station 2', tend to have longest duration of the three."
      ],
      "metadata": {
        "id": "4oRuuTR-RP9J"
      }
    },
    {
      "cell_type": "markdown",
      "source": [
        "### Discuss traffic tendency of Users over 24hr period."
      ],
      "metadata": {
        "id": "iKWmJyotRy2N"
      }
    },
    {
      "cell_type": "code",
      "source": [
        "start=df['start_station_name'].value_counts().index[:5]\n",
        "s_stations = df.loc[df['start_station_name'].isin(start)]\n",
        "plt.figure(figsize = (15,6))\n",
        "sb.countplot(data=s_stations, x='start_time_hours', hue='start_station_name')\n",
        "x_tick= np.arange(0,24,2)\n",
        "x_label= [str(x)+\":00\" for x in x_tick]\n",
        "plt.xticks(x_tick, x_label)\n",
        "plt.xlabel('Time in Hours')\n",
        "plt.ylabel('Users')\n",
        "plt.show()"
      ],
      "metadata": {
        "colab": {
          "base_uri": "https://localhost:8080/",
          "height": 388
        },
        "id": "o7NOcLZ-kd31",
        "outputId": "1ff35d60-a16c-49e3-bfae-9497466d3d1e"
      },
      "execution_count": null,
      "outputs": [
        {
          "output_type": "display_data",
          "data": {
            "image/png": "[encoded data removed]",
            "text/plain": [
              "<Figure size 1080x432 with 1 Axes>"
            ]
          },
          "metadata": {}
        }
      ]
    },
    {
      "cell_type": "code",
      "source": [
        "end= df['end_station_name'].value_counts().index[:5]\n",
        "e_stations = df.loc[df['end_station_name'].isin(end)]\n",
        "plt.figure(figsize = (15,6))\n",
        "sb.countplot(data=e_stations, x='end_time_hours', hue='end_station_name')\n",
        "x_tick= np.arange(0,24,2)\n",
        "x_label= [str(x)+\":00\" for x in x_tick]\n",
        "plt.xticks(x_tick, x_label)\n",
        "plt.xlabel('Time in Hours')\n",
        "plt.ylabel('Users')\n",
        "plt.show()"
      ],
      "metadata": {
        "colab": {
          "base_uri": "https://localhost:8080/",
          "height": 389
        },
        "id": "PtXlj3WTkdx2",
        "outputId": "41c91b1e-47e7-452d-85ef-95c12cb58af4"
      },
      "execution_count": null,
      "outputs": [
        {
          "output_type": "display_data",
          "data": {
            "image/png": "[encoded data removed]",
            "text/plain": [
              "<Figure size 1080x432 with 1 Axes>"
            ]
          },
          "metadata": {}
        }
      ]
    },
    {
      "cell_type": "markdown",
      "source": [
        "Graphs suggest, bigger number of users prefer ride bike in the morning at 8. On the other hand, the users end the trip usually at 5 pm."
      ],
      "metadata": {
        "id": "aIrVnbcASbrl"
      }
    },
    {
      "cell_type": "markdown",
      "source": [
        "### Talk about some of the relationships you observed in this part of the investigation. Were there features that strengthened each other in terms of looking at your feature(s) of interest?"
      ],
      "metadata": {
        "id": "aK1sHHsd3aui"
      }
    },
    {
      "cell_type": "markdown",
      "source": [
        "First, the duration per type of user shows that the customers average duration is higher than the subscribers. While as seen in the univariate plot the subscribers bike ride count is higher than the customers bike ride count. Also, the start station and end station does not much determine the duration. It suggests that some starting stations are having higher visited as the starting point and some end stations are having higher visited as the ending point."
      ],
      "metadata": {
        "id": "-VcQ9f9r3fuF"
      }
    },
    {
      "cell_type": "markdown",
      "source": [
        "### Were there any interesting or surprising interactions between features?"
      ],
      "metadata": {
        "id": "BWeXaT9D3kXf"
      }
    },
    {
      "cell_type": "markdown",
      "source": [
        "Graphs suggest, bigger number of users prefer ride bike in the morning at 8. On the other hand, the users end the trip usually at 5 pm."
      ],
      "metadata": {
        "id": "aoOyberb3oRf"
      }
    },
    {
      "cell_type": "markdown",
      "source": [
        "##**Multivariate Exploration**"
      ],
      "metadata": {
        "id": "rjdVJ4YWk9ma"
      }
    },
    {
      "cell_type": "code",
      "source": [
        "# Scatterplot depicting time duration trends for both user types.\n",
        "ut=sb.FacetGrid(data = df, col = 'user_type', col_wrap = 2, size = 5,\n",
        "                 xlim = [10, 80], ylim = [-500, 9000])\n",
        "ut.map(plt.scatter, 'start_time_minutes', 'duration_sec')\n",
        "ut.set_xlabels('Start Time')\n",
        "ut.set_ylabels('Duration \"sec\"')\n",
        "plt.show()\n"
      ],
      "metadata": {
        "colab": {
          "base_uri": "https://localhost:8080/",
          "height": 404
        },
        "id": "4TFZQZos16P3",
        "outputId": "3ee7343e-1b1b-4245-ae16-db5f1d36784a"
      },
      "execution_count": null,
      "outputs": [
        {
          "output_type": "stream",
          "name": "stderr",
          "text": [
            "/usr/local/lib/python3.7/dist-packages/seaborn/axisgrid.py:337: UserWarning: The `size` parameter has been renamed to `height`; please update your code.\n",
            "  warnings.warn(msg, UserWarning)\n"
          ]
        },
        {
          "output_type": "display_data",
          "data": {
            "image/png": "[encoded data removed]",
            "text/plain": [
              "<Figure size 720x360 with 2 Axes>"
            ]
          },
          "metadata": {}
        }
      ]
    },
    {
      "cell_type": "markdown",
      "source": [
        "### Talk about some of the relationships you observed in this part of the investigation. Were there features that strengthened each other in terms of looking at your feature(s) of interest?"
      ],
      "metadata": {
        "id": "7W1CiDcD4Pnu"
      }
    },
    {
      "cell_type": "markdown",
      "source": [
        "The graph shows the subscribers generally ride for a shorter time than customers who ride for a longer time during the period from 8 am.\n",
        "**We can clearly see few outlier values in both cases.**"
      ],
      "metadata": {
        "id": "S2FjKxO_4VIV"
      }
    }
  ]
}